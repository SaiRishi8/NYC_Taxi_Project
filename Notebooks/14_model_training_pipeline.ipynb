{
 "cells": [
  {
   "cell_type": "code",
   "execution_count": 1,
   "id": "a581a9dc-62ed-4e78-9106-b6e906d7e2e6",
   "metadata": {},
   "outputs": [],
   "source": [
    "%load_ext autoreload\n",
    "%autoreload 2"
   ]
  },
  {
   "cell_type": "code",
   "execution_count": 2,
   "id": "ae8f698c-32c0-4b14-bad4-3134f76d3e8e",
   "metadata": {},
   "outputs": [],
   "source": [
    "import sys\n",
    "import os\n",
    "\n",
    "# Add the parent directory to the Python path\n",
    "sys.path.append(os.path.abspath(os.path.join(os.getcwd(), \"..\")))\n",
    "import src.config as config"
   ]
  },
  {
   "cell_type": "code",
   "execution_count": 3,
   "id": "b2875674-dbe9-4de1-bdcf-e01bcd15cbb1",
   "metadata": {},
   "outputs": [
    {
     "name": "stdout",
     "output_type": "stream",
     "text": [
      "2025-03-03 12:07:11,253 INFO: Initializing external client\n",
      "2025-03-03 12:07:11,258 INFO: Base URL: https://c.app.hopsworks.ai:443\n",
      "2025-03-03 12:07:13,478 INFO: Python Engine initialized.\n",
      "\n",
      "Logged in to project, explore it here https://c.app.hopsworks.ai:443/p/1215640\n",
      "Successfully connected to Hopsworks project: None\n"
     ]
    }
   ],
   "source": [
    "import hopsworks\n",
    "\n",
    "api_key = os.getenv('yaeKKye3HP7lw2kL.5sIZ8NQrVMMY6gvZ3IJQXDeSZnaMe81dRVzGE5SLT04EHxNIlV07pio0o74mv6fA')  \n",
    "project_name = os.getenv('NYC_TAXI_PROJECT_CDA_P1')  \n",
    "\n",
    "# pip install confluent-kafka\n",
    "# Initialize connection to Hopsworks  \n",
    "project = hopsworks.login(  \n",
    "    api_key_value=api_key,  \n",
    "    project=project_name  \n",
    ")  \n",
    "print(f\"Successfully connected to Hopsworks project: {project_name}\")\n"
   ]
  },
  {
   "cell_type": "code",
   "execution_count": 4,
   "id": "3c42bd8c-40cb-4136-9cdf-1d375b615a60",
   "metadata": {},
   "outputs": [],
   "source": [
    "feature_store = project.get_feature_store()"
   ]
  },
  {
   "cell_type": "code",
   "execution_count": 5,
   "id": "fdc9204f-c28d-4897-887a-b614937d3e74",
   "metadata": {},
   "outputs": [],
   "source": [
    "FEATURE_GROUP_NAME = \"nyc_time_hourly\"\n",
    "FEATURE_GROUP_VERSION = 1"
   ]
  },
  {
   "cell_type": "code",
   "execution_count": 6,
   "id": "d0aca173-fec3-495e-8746-235979df7be2",
   "metadata": {},
   "outputs": [],
   "source": [
    "feature_group = feature_store.get_feature_group(\n",
    "    name=FEATURE_GROUP_NAME,\n",
    "    version=FEATURE_GROUP_VERSION,\n",
    ")"
   ]
  },
  {
   "cell_type": "code",
   "execution_count": 7,
   "id": "20a1d525-e191-49f0-b1fa-39217ab0ce75",
   "metadata": {},
   "outputs": [
    {
     "name": "stdout",
     "output_type": "stream",
     "text": [
      "2025-03-03 12:07:15,767 INFO: Closing external client and cleaning up certificates.\n",
      "Connection closed.\n",
      "2025-03-03 12:07:15,781 INFO: Initializing external client\n",
      "2025-03-03 12:07:15,781 INFO: Base URL: https://c.app.hopsworks.ai:443\n",
      "2025-03-03 12:07:16,563 INFO: Python Engine initialized.\n",
      "\n",
      "Logged in to project, explore it here https://c.app.hopsworks.ai:443/p/1215640\n"
     ]
    }
   ],
   "source": [
    "import hopsworks \n",
    "project = hopsworks.login()\n",
    "feature_store = project.get_feature_store(name='nyc_taxi_project_cda_p1_featurestore')\n",
    "feature_group = feature_store.get_feature_group('nyc_time_hourly', version=1)"
   ]
  },
  {
   "cell_type": "code",
   "execution_count": 8,
   "id": "39765ecb-6286-4f5c-a043-a56623b3e7fa",
   "metadata": {},
   "outputs": [
    {
     "name": "stdout",
     "output_type": "stream",
     "text": [
      "Error creating feature view: Metadata operation error: (url: https://c.app.hopsworks.ai/hopsworks-api/api/project/1215640/featurestores/1203270/featureview). Server response: \n",
      "HTTP code: 400, HTTP reason: Bad Request, body: b'{\"errorCode\":270179,\"usrMsg\":\"Feature view: time_series_hourly_feature_view, version: 1\",\"errorMsg\":\"The provided feature view name and version already exists\"}', error code: 270179, error msg: The provided feature view name and version already exists, user msg: Feature view: time_series_hourly_feature_view, version: 1\n",
      "Feature view 'time_series_hourly_feature_view' (version 1) retrieved successfully.\n"
     ]
    }
   ],
   "source": [
    "# Create a feature view if it doesn't already exist\n",
    "try:\n",
    "    feature_store.create_feature_view(\n",
    "        name=config.FEATURE_VIEW_NAME,\n",
    "        version=config.FEATURE_VIEW_VERSION,\n",
    "        query=feature_group.select_all(),\n",
    "    )\n",
    "    print(f\"Feature view '{config.FEATURE_VIEW_NAME}' (version {config.FEATURE_VIEW_VERSION}) created successfully.\")\n",
    "except Exception as e:\n",
    "    print(f\"Error creating feature view: {e}\")\n",
    "\n",
    "# Retrieve the feature view\n",
    "try:\n",
    "    feature_view = feature_store.get_feature_view(\n",
    "        name=config.FEATURE_VIEW_NAME,\n",
    "        version=config.FEATURE_VIEW_VERSION,\n",
    "    )\n",
    "    print(f\"Feature view '{config.FEATURE_VIEW_NAME}' (version {config.FEATURE_VIEW_VERSION}) retrieved successfully.\")\n",
    "except Exception as e:\n",
    "    print(f\"Error retrieving feature view: {e}\")"
   ]
  },
  {
   "cell_type": "code",
   "execution_count": 9,
   "id": "9170a91d-2540-4271-aafa-c784105cf413",
   "metadata": {},
   "outputs": [
    {
     "name": "stdout",
     "output_type": "stream",
     "text": [
      "Finished: Reading data from Hopsworks, using Hopsworks Feature Query Service (0.45s) \n"
     ]
    },
    {
     "name": "stderr",
     "output_type": "stream",
     "text": [
      "VersionWarning: Incremented version to `19`.\n"
     ]
    }
   ],
   "source": [
    "ts_data, _ = feature_view.training_data(\n",
    "    description=\"Time-series hourly taxi rides\"\n",
    ")"
   ]
  },
  {
   "cell_type": "code",
   "execution_count": 10,
   "id": "b05116e5-e2ed-469d-b4a5-b35fb667c2a5",
   "metadata": {},
   "outputs": [],
   "source": [
    "ts_data = ts_data.sort_values([\"pickup_location_id\", \"pickup_hour\"]).reset_index(drop=True)"
   ]
  },
  {
   "cell_type": "code",
   "execution_count": 11,
   "id": "16e0725d-866e-4cfb-98cc-865853494434",
   "metadata": {},
   "outputs": [
    {
     "data": {
      "text/html": [
       "<div>\n",
       "<style scoped>\n",
       "    .dataframe tbody tr th:only-of-type {\n",
       "        vertical-align: middle;\n",
       "    }\n",
       "\n",
       "    .dataframe tbody tr th {\n",
       "        vertical-align: top;\n",
       "    }\n",
       "\n",
       "    .dataframe thead th {\n",
       "        text-align: right;\n",
       "    }\n",
       "</style>\n",
       "<table border=\"1\" class=\"dataframe\">\n",
       "  <thead>\n",
       "    <tr style=\"text-align: right;\">\n",
       "      <th></th>\n",
       "      <th>pickup_location_id</th>\n",
       "      <th>pickup_hour</th>\n",
       "      <th>value</th>\n",
       "    </tr>\n",
       "  </thead>\n",
       "  <tbody>\n",
       "    <tr>\n",
       "      <th>0</th>\n",
       "      <td>1</td>\n",
       "      <td>2023-10-01 12:00:00+00:00</td>\n",
       "      <td>100</td>\n",
       "    </tr>\n",
       "    <tr>\n",
       "      <th>1</th>\n",
       "      <td>2</td>\n",
       "      <td>2023-10-01 13:00:00+00:00</td>\n",
       "      <td>150</td>\n",
       "    </tr>\n",
       "    <tr>\n",
       "      <th>2</th>\n",
       "      <td>3</td>\n",
       "      <td>2023-10-01 14:00:00+00:00</td>\n",
       "      <td>200</td>\n",
       "    </tr>\n",
       "  </tbody>\n",
       "</table>\n",
       "</div>"
      ],
      "text/plain": [
       "   pickup_location_id                pickup_hour  value\n",
       "0                   1  2023-10-01 12:00:00+00:00    100\n",
       "1                   2  2023-10-01 13:00:00+00:00    150\n",
       "2                   3  2023-10-01 14:00:00+00:00    200"
      ]
     },
     "execution_count": 11,
     "metadata": {},
     "output_type": "execute_result"
    }
   ],
   "source": [
    "ts_data.head()"
   ]
  },
  {
   "cell_type": "code",
   "execution_count": 12,
   "id": "f42aab97-61b2-4b59-b007-bbd2f555023c",
   "metadata": {},
   "outputs": [
    {
     "data": {
      "text/plain": [
       "'2023-10-01 12:00:00+00:00'"
      ]
     },
     "execution_count": 12,
     "metadata": {},
     "output_type": "execute_result"
    }
   ],
   "source": [
    "ts_data[\"pickup_hour\"].min()"
   ]
  },
  {
   "cell_type": "code",
   "execution_count": 13,
   "id": "797dfdef-092f-484f-a1c9-c3f66ddefe79",
   "metadata": {},
   "outputs": [
    {
     "data": {
      "text/plain": [
       "'2023-10-01 14:00:00+00:00'"
      ]
     },
     "execution_count": 13,
     "metadata": {},
     "output_type": "execute_result"
    }
   ],
   "source": [
    "ts_data[\"pickup_hour\"].max()"
   ]
  },
  {
   "cell_type": "code",
   "execution_count": 14,
   "id": "05eaf046-cb7b-4bc1-9a8f-79d377369fdf",
   "metadata": {},
   "outputs": [],
   "source": [
    "ts_data_copy = ts_data.copy()"
   ]
  },
  {
   "cell_type": "code",
   "execution_count": 15,
   "id": "527be407-78e4-4820-aa02-14bb4e8013ac",
   "metadata": {},
   "outputs": [],
   "source": [
    "import pandas as pd\n",
    "ts_data[\"pickup_hour\"] = pd.to_datetime(ts_data[\"pickup_hour\"], errors=\"coerce\")"
   ]
  },
  {
   "cell_type": "code",
   "execution_count": 16,
   "id": "d7416e1d-47a4-4e25-89c7-1497aebcc6a1",
   "metadata": {},
   "outputs": [
    {
     "name": "stdout",
     "output_type": "stream",
     "text": [
      "<class 'pandas.core.frame.DataFrame'>\n",
      "RangeIndex: 3 entries, 0 to 2\n",
      "Data columns (total 3 columns):\n",
      " #   Column              Non-Null Count  Dtype              \n",
      "---  ------              --------------  -----              \n",
      " 0   pickup_location_id  3 non-null      int64              \n",
      " 1   pickup_hour         3 non-null      datetime64[ns, UTC]\n",
      " 2   value               3 non-null      int64              \n",
      "dtypes: datetime64[ns, UTC](1), int64(2)\n",
      "memory usage: 204.0 bytes\n"
     ]
    }
   ],
   "source": [
    "ts_data.info()"
   ]
  },
  {
   "cell_type": "code",
   "execution_count": 17,
   "id": "0f671508-e8a0-4eef-822c-d47fba18c96a",
   "metadata": {},
   "outputs": [],
   "source": [
    "ts_data[\"pickup_hour\"] = ts_data[\"pickup_hour\"].dt.tz_localize(None)  # Remove timezone"
   ]
  },
  {
   "cell_type": "code",
   "execution_count": 18,
   "id": "a8c865f8-413c-4402-88b6-cb0aeac10a6c",
   "metadata": {},
   "outputs": [
    {
     "name": "stdout",
     "output_type": "stream",
     "text": [
      "<class 'pandas.core.frame.DataFrame'>\n",
      "RangeIndex: 3 entries, 0 to 2\n",
      "Data columns (total 3 columns):\n",
      " #   Column              Non-Null Count  Dtype         \n",
      "---  ------              --------------  -----         \n",
      " 0   pickup_location_id  3 non-null      int64         \n",
      " 1   pickup_hour         3 non-null      datetime64[ns]\n",
      " 2   value               3 non-null      int64         \n",
      "dtypes: datetime64[ns](1), int64(2)\n",
      "memory usage: 204.0 bytes\n"
     ]
    }
   ],
   "source": [
    "ts_data.info()"
   ]
  },
  {
   "cell_type": "code",
   "execution_count": 19,
   "id": "6ef694ef-a911-41b8-b0f8-5514b5e315d4",
   "metadata": {},
   "outputs": [],
   "source": [
    "ts_data[\"year_month\"] = ts_data[\"pickup_hour\"].dt.to_period(\"M\")  # Year-Month format"
   ]
  },
  {
   "cell_type": "code",
   "execution_count": 20,
   "id": "a675d275-f640-48c5-b019-ac5486308866",
   "metadata": {},
   "outputs": [
    {
     "data": {
      "text/html": [
       "<div>\n",
       "<style scoped>\n",
       "    .dataframe tbody tr th:only-of-type {\n",
       "        vertical-align: middle;\n",
       "    }\n",
       "\n",
       "    .dataframe tbody tr th {\n",
       "        vertical-align: top;\n",
       "    }\n",
       "\n",
       "    .dataframe thead th {\n",
       "        text-align: right;\n",
       "    }\n",
       "</style>\n",
       "<table border=\"1\" class=\"dataframe\">\n",
       "  <thead>\n",
       "    <tr style=\"text-align: right;\">\n",
       "      <th></th>\n",
       "      <th>pickup_location_id</th>\n",
       "      <th>pickup_hour</th>\n",
       "      <th>value</th>\n",
       "      <th>year_month</th>\n",
       "    </tr>\n",
       "  </thead>\n",
       "  <tbody>\n",
       "    <tr>\n",
       "      <th>0</th>\n",
       "      <td>1</td>\n",
       "      <td>2023-10-01 12:00:00</td>\n",
       "      <td>100</td>\n",
       "      <td>2023-10</td>\n",
       "    </tr>\n",
       "    <tr>\n",
       "      <th>1</th>\n",
       "      <td>2</td>\n",
       "      <td>2023-10-01 13:00:00</td>\n",
       "      <td>150</td>\n",
       "      <td>2023-10</td>\n",
       "    </tr>\n",
       "    <tr>\n",
       "      <th>2</th>\n",
       "      <td>3</td>\n",
       "      <td>2023-10-01 14:00:00</td>\n",
       "      <td>200</td>\n",
       "      <td>2023-10</td>\n",
       "    </tr>\n",
       "  </tbody>\n",
       "</table>\n",
       "</div>"
      ],
      "text/plain": [
       "   pickup_location_id         pickup_hour  value year_month\n",
       "0                   1 2023-10-01 12:00:00    100    2023-10\n",
       "1                   2 2023-10-01 13:00:00    150    2023-10\n",
       "2                   3 2023-10-01 14:00:00    200    2023-10"
      ]
     },
     "execution_count": 20,
     "metadata": {},
     "output_type": "execute_result"
    }
   ],
   "source": [
    "ts_data"
   ]
  },
  {
   "cell_type": "code",
   "execution_count": 21,
   "id": "10f8c2d4-4449-4975-9289-84039bee2c5f",
   "metadata": {},
   "outputs": [
    {
     "data": {
      "image/png": "[encoded data removed]",
      "text/plain": [
       "<Figure size 1000x600 with 1 Axes>"
      ]
     },
     "metadata": {},
     "output_type": "display_data"
    }
   ],
   "source": [
    "import matplotlib.pyplot as plt\n",
    "\n",
    "# Group by year_month and count\n",
    "hour_counts = ts_data.groupby(\"year_month\").size()\n",
    "\n",
    "# Plot the data\n",
    "ax = hour_counts.plot(kind=\"bar\", figsize=(10, 6), color=\"skyblue\", edgecolor=\"black\")  # Use 'ax' to store the plot object\n",
    "ax.set_title(\"Number of Hours by Year/Month\", fontsize=16)\n",
    "ax.set_xlabel(\"Year-Month\", fontsize=12)\n",
    "ax.set_ylabel(\"Count of Hours\", fontsize=12)\n",
    "ax.set_xticklabels(ax.get_xticklabels(), rotation=45)\n",
    "ax.grid(axis=\"y\", linestyle=\"--\", alpha=0.7)\n",
    "\n",
    "plt.tight_layout()  # Adjust layout to prevent overlap\n",
    "plt.show()"
   ]
  },
  {
   "cell_type": "code",
   "execution_count": 22,
   "id": "d13fd2be-8d3a-4438-9346-646dd1c427d6",
   "metadata": {},
   "outputs": [
    {
     "data": {
      "text/html": [
       "<div>\n",
       "<style scoped>\n",
       "    .dataframe tbody tr th:only-of-type {\n",
       "        vertical-align: middle;\n",
       "    }\n",
       "\n",
       "    .dataframe tbody tr th {\n",
       "        vertical-align: top;\n",
       "    }\n",
       "\n",
       "    .dataframe thead th {\n",
       "        text-align: right;\n",
       "    }\n",
       "</style>\n",
       "<table border=\"1\" class=\"dataframe\">\n",
       "  <thead>\n",
       "    <tr style=\"text-align: right;\">\n",
       "      <th></th>\n",
       "      <th>pickup_location_id</th>\n",
       "      <th>pickup_hour</th>\n",
       "      <th>value</th>\n",
       "      <th>year_month</th>\n",
       "    </tr>\n",
       "  </thead>\n",
       "  <tbody>\n",
       "    <tr>\n",
       "      <th>0</th>\n",
       "      <td>1</td>\n",
       "      <td>2023-10-01 12:00:00</td>\n",
       "      <td>100</td>\n",
       "      <td>2023-10</td>\n",
       "    </tr>\n",
       "    <tr>\n",
       "      <th>1</th>\n",
       "      <td>2</td>\n",
       "      <td>2023-10-01 13:00:00</td>\n",
       "      <td>150</td>\n",
       "      <td>2023-10</td>\n",
       "    </tr>\n",
       "    <tr>\n",
       "      <th>2</th>\n",
       "      <td>3</td>\n",
       "      <td>2023-10-01 14:00:00</td>\n",
       "      <td>200</td>\n",
       "      <td>2023-10</td>\n",
       "    </tr>\n",
       "  </tbody>\n",
       "</table>\n",
       "</div>"
      ],
      "text/plain": [
       "   pickup_location_id         pickup_hour  value year_month\n",
       "0                   1 2023-10-01 12:00:00    100    2023-10\n",
       "1                   2 2023-10-01 13:00:00    150    2023-10\n",
       "2                   3 2023-10-01 14:00:00    200    2023-10"
      ]
     },
     "execution_count": 22,
     "metadata": {},
     "output_type": "execute_result"
    }
   ],
   "source": [
    "ts_data.head()      "
   ]
  },
  {
   "cell_type": "code",
   "execution_count": 23,
   "id": "360a28c3-54ba-4b16-8d0e-2186060fbfe7",
   "metadata": {},
   "outputs": [],
   "source": [
    "gte = ts_data[\"year_month\"] >= pd.Period(\"2023-01\", freq=\"M\")\n",
    "lte = ts_data[\"year_month\"] <= pd.Period(\"2023-12\", freq=\"M\")\n",
    "cond = gte & lte\n",
    "filtered_data = ts_data[cond].reset_index(drop=True)"
   ]
  },
  {
   "cell_type": "code",
   "execution_count": 24,
   "id": "2ec69971-2df1-486d-bea4-0e03e417b7bc",
   "metadata": {},
   "outputs": [],
   "source": [
    "filtered_data.drop(columns=[\"year_month\"], inplace=True) "
   ]
  },
  {
   "cell_type": "code",
   "execution_count": 25,
   "id": "5703947c-79ca-4239-8231-75203f0a0fc4",
   "metadata": {},
   "outputs": [
    {
     "data": {
      "text/plain": [
       "(3, 3)"
      ]
     },
     "execution_count": 25,
     "metadata": {},
     "output_type": "execute_result"
    }
   ],
   "source": [
    "filtered_data.shape"
   ]
  },
  {
   "cell_type": "code",
   "execution_count": 26,
   "id": "6d59413d-c83f-45c8-852b-d35481b70cc4",
   "metadata": {},
   "outputs": [],
   "source": [
    "ts_data = filtered_data"
   ]
  },
  {
   "cell_type": "code",
   "execution_count": 27,
   "id": "e7274c69-616f-40bf-a4a5-b36f54e953ac",
   "metadata": {},
   "outputs": [
    {
     "name": "stdout",
     "output_type": "stream",
     "text": [
      "<class 'pandas.core.frame.DataFrame'>\n",
      "RangeIndex: 3 entries, 0 to 2\n",
      "Data columns (total 3 columns):\n",
      " #   Column              Non-Null Count  Dtype         \n",
      "---  ------              --------------  -----         \n",
      " 0   pickup_location_id  3 non-null      int64         \n",
      " 1   pickup_hour         3 non-null      datetime64[ns]\n",
      " 2   value               3 non-null      int64         \n",
      "dtypes: datetime64[ns](1), int64(2)\n",
      "memory usage: 204.0 bytes\n"
     ]
    }
   ],
   "source": [
    "ts_data.info()"
   ]
  },
  {
   "cell_type": "code",
   "execution_count": 28,
   "id": "16c23ffa-70e8-4482-9356-bf701173fb46",
   "metadata": {},
   "outputs": [
    {
     "data": {
      "text/plain": [
       "array(['2023-10-01T12:00:00.000000000', '2023-10-01T13:00:00.000000000',\n",
       "       '2023-10-01T14:00:00.000000000'], dtype='datetime64[ns]')"
      ]
     },
     "execution_count": 28,
     "metadata": {},
     "output_type": "execute_result"
    }
   ],
   "source": [
    "ts_data.head()[\"pickup_hour\"].values"
   ]
  },
  {
   "cell_type": "code",
   "execution_count": 29,
   "id": "635b6d87-b859-48d1-b97a-b7b729c8ec00",
   "metadata": {},
   "outputs": [
    {
     "name": "stdout",
     "output_type": "stream",
     "text": [
      "Index(['pickup_location_id', 'pickup_hour', 'value'], dtype='object')\n"
     ]
    }
   ],
   "source": [
    "print(ts_data.columns)\n"
   ]
  },
  {
   "cell_type": "code",
   "execution_count": 30,
   "id": "03f0dda2-876e-45b3-8b04-88eb173a4fdb",
   "metadata": {},
   "outputs": [],
   "source": [
    "ts_data.rename(columns={'value': 'rides'}, inplace=True)\n",
    "ts_data[\"pickup_hour\"] = pd.to_datetime(ts_data[\"pickup_hour\"])\n",
    "ts_data[\"pickup_location_id\"] = ts_data[\"pickup_location_id\"].astype(int)\n",
    "ts_data[\"rides\"] = ts_data[\"rides\"].astype(int)\n"
   ]
  },
  {
   "cell_type": "code",
   "execution_count": 31,
   "id": "ae42f021-a74d-4960-8f4c-ba523c740489",
   "metadata": {},
   "outputs": [
    {
     "name": "stdout",
     "output_type": "stream",
     "text": [
      "pickup_location_id\n",
      "1    1\n",
      "2    1\n",
      "3    1\n",
      "Name: pickup_hour, dtype: int64\n"
     ]
    }
   ],
   "source": [
    "print(ts_data.groupby(\"pickup_location_id\")[\"pickup_hour\"].count())\n"
   ]
  },
  {
   "cell_type": "code",
   "execution_count": 32,
   "id": "da07b08b-40fe-4ed7-83c7-e971dd235ac3",
   "metadata": {},
   "outputs": [],
   "source": [
    "ts_data[\"pickup_hour\"] = pd.to_datetime(ts_data[\"pickup_hour\"])\n",
    "ts_data = ts_data.sort_values(by=[\"pickup_location_id\", \"pickup_hour\"])\n"
   ]
  },
  {
   "cell_type": "code",
   "execution_count": 33,
   "id": "5ed66093-fe08-4bea-bc5c-3898b41519f5",
   "metadata": {},
   "outputs": [
    {
     "name": "stdout",
     "output_type": "stream",
     "text": [
      "Skipping location_id 1: Not enough data to create even one window.\n",
      "Skipping location_id 2: Not enough data to create even one window.\n",
      "Skipping location_id 3: Not enough data to create even one window.\n"
     ]
    },
    {
     "ename": "ValueError",
     "evalue": "No data could be transformed. Check if input DataFrame is empty or window size is too large.",
     "output_type": "error",
     "traceback": [
      "\u001b[1;31m---------------------------------------------------------------------------\u001b[0m",
      "\u001b[1;31mValueError\u001b[0m                                Traceback (most recent call last)",
      "Cell \u001b[1;32mIn[33], line 3\u001b[0m\n\u001b[0;32m      1\u001b[0m \u001b[38;5;28;01mfrom\u001b[39;00m \u001b[38;5;21;01msrc\u001b[39;00m\u001b[38;5;21;01m.\u001b[39;00m\u001b[38;5;21;01mdata_utils\u001b[39;00m \u001b[38;5;28;01mimport\u001b[39;00m transform_ts_data_info_features_and_target\n\u001b[1;32m----> 3\u001b[0m features, targets \u001b[38;5;241m=\u001b[39m transform_ts_data_info_features_and_target(ts_data, window_size\u001b[38;5;241m=\u001b[39m\u001b[38;5;241m24\u001b[39m\u001b[38;5;241m*\u001b[39m\u001b[38;5;241m28\u001b[39m, step_size\u001b[38;5;241m=\u001b[39m\u001b[38;5;241m23\u001b[39m)\n",
      "File \u001b[1;32m~\\NYC Taxi Project\\src\\data_utils.py:400\u001b[0m, in \u001b[0;36mtransform_ts_data_info_features_and_target\u001b[1;34m(df, feature_col, window_size, step_size)\u001b[0m\n\u001b[0;32m    398\u001b[0m \u001b[38;5;66;03m# Combine all transformed data into a single DataFrame\u001b[39;00m\n\u001b[0;32m    399\u001b[0m \u001b[38;5;28;01mif\u001b[39;00m \u001b[38;5;129;01mnot\u001b[39;00m transformed_data:\n\u001b[1;32m--> 400\u001b[0m     \u001b[38;5;28;01mraise\u001b[39;00m \u001b[38;5;167;01mValueError\u001b[39;00m(\n\u001b[0;32m    401\u001b[0m         \u001b[38;5;124m\"\u001b[39m\u001b[38;5;124mNo data could be transformed. Check if input DataFrame is empty or window size is too large.\u001b[39m\u001b[38;5;124m\"\u001b[39m\n\u001b[0;32m    402\u001b[0m     )\n\u001b[0;32m    404\u001b[0m final_df \u001b[38;5;241m=\u001b[39m pd\u001b[38;5;241m.\u001b[39mconcat(transformed_data, ignore_index\u001b[38;5;241m=\u001b[39m\u001b[38;5;28;01mTrue\u001b[39;00m)\n\u001b[0;32m    406\u001b[0m \u001b[38;5;66;03m# Extract features (including pickup_hour), targets, and keep the complete DataFrame\u001b[39;00m\n",
      "\u001b[1;31mValueError\u001b[0m: No data could be transformed. Check if input DataFrame is empty or window size is too large."
     ]
    }
   ],
   "source": [
    "from src.data_utils import transform_ts_data_info_features_and_target\n",
    "\n",
    "features, targets = transform_ts_data_info_features_and_target(ts_data, window_size=24*28, step_size=23)"
   ]
  },
  {
   "cell_type": "code",
   "execution_count": null,
   "id": "36198686-ace7-4dea-a83c-a2c8ebcabde1",
   "metadata": {},
   "outputs": [],
   "source": [
    "features.sort_values([\"pickup_location_id\", \"pickup_hour\"])"
   ]
  },
  {
   "cell_type": "code",
   "execution_count": null,
   "id": "e06ed656-4dbb-4e75-b09d-82341db72bc4",
   "metadata": {},
   "outputs": [],
   "source": [
    "features[features[\"pickup_location_id\"] == 2]"
   ]
  },
  {
   "cell_type": "code",
   "execution_count": null,
   "id": "3fb3a28f-ec74-4746-8393-9e92e0bfd00f",
   "metadata": {},
   "outputs": [],
   "source": [
    "features_copy = features.copy()"
   ]
  },
  {
   "cell_type": "code",
   "execution_count": null,
   "id": "aff419d7-897d-41ef-8c2f-4835d613946e",
   "metadata": {},
   "outputs": [],
   "source": [
    "features_targets = features.copy()\n",
    "features_targets[\"target\"] = targets\n",
    "\n",
    "features_targets.shape"
   ]
  },
  {
   "cell_type": "code",
   "execution_count": null,
   "id": "d8b4dc36-b1c8-4d76-b2bd-77ec26903d64",
   "metadata": {},
   "outputs": [],
   "source": [
    "from datetime import datetime, timedelta  \n",
    "import pandas as pd  \n",
    "from src.data_utils import split_time_series_data  \n",
    "\n",
    "# Define the cutoff date as 28 days before today  \n",
    "cutoff_date = pd.Timestamp(datetime.now() - timedelta(days=28))  \n",
    "# # Convert the cutoff date to a string in a specific format (e.g., 'YYYY-MM-DD')  \n",
    "# cutoff_date_str = cutoff_date.strftime('%Y-%m-%d')\n",
    "# # Print the string representation of the cutoff date  \n",
    "# print(f\"Cutoff date as string: {cutoff_date_str}\")\n",
    "cutoff_date"
   ]
  },
  {
   "cell_type": "code",
   "execution_count": null,
   "id": "819b97a6-dfe2-44a7-879a-9647e05a9841",
   "metadata": {},
   "outputs": [],
   "source": [
    "X_train, y_train, X_test, y_test = split_time_series_data(\n",
    "    features_targets,\n",
    "    cutoff_date=cutoff_date,\n",
    "    target_column=\"target\"\n",
    ")\n",
    "\n",
    "print(X_train.shape)\n",
    "print(y_train.shape)\n",
    "print(X_test.shape)\n",
    "print(y_test.shape)"
   ]
  },
  {
   "cell_type": "code",
   "execution_count": null,
   "id": "cc4b37cd-1c83-40e6-8aab-55bad138a658",
   "metadata": {},
   "outputs": [],
   "source": [
    "X_train.info()"
   ]
  },
  {
   "cell_type": "code",
   "execution_count": null,
   "id": "d5c0d6cd-f530-4e6a-8663-f8825ffce9f8",
   "metadata": {},
   "outputs": [],
   "source": [
    "from src.pipeline_utils import get_pipeline\n",
    "pipeline = get_pipeline()"
   ]
  },
  {
   "cell_type": "code",
   "execution_count": null,
   "id": "8d4135c7-56bc-49fd-9247-235726a03e7c",
   "metadata": {},
   "outputs": [],
   "source": [
    "pipeline.fit(features, targets)"
   ]
  },
  {
   "cell_type": "code",
   "execution_count": null,
   "id": "c8b0b557-e82f-45da-8c22-5145422f0e3b",
   "metadata": {},
   "outputs": [],
   "source": [
    "from sklearn.metrics import mean_absolute_error\n",
    "predictions = pipeline.predict(features)"
   ]
  },
  {
   "cell_type": "code",
   "execution_count": null,
   "id": "3c4f51a3-f0d9-48d6-98a9-18e39a46d9d7",
   "metadata": {},
   "outputs": [],
   "source": [
    "predictions"
   ]
  },
  {
   "cell_type": "code",
   "execution_count": null,
   "id": "17d96085-ad00-4815-b2a7-e48de82ea58b",
   "metadata": {},
   "outputs": [],
   "source": [
    "test_mae = mean_absolute_error(targets, predictions)\n",
    "print(f\"{test_mae:.4f}\")"
   ]
  },
  {
   "cell_type": "code",
   "execution_count": null,
   "id": "86819a84-7704-4143-8cff-2ae4a78f6a36",
   "metadata": {},
   "outputs": [],
   "source": [
    "import joblib  \n",
    "\n",
    "\n",
    "# Save the pipeline  \n",
    "joblib.dump(pipeline, config.MODELS_DIR / \"lgb_model.pkl\")"
   ]
  },
  {
   "cell_type": "code",
   "execution_count": null,
   "id": "ab41db51-b37f-4ae8-b18a-48eb1984aa5a",
   "metadata": {},
   "outputs": [],
   "source": [
    "from hsml.schema import Schema\n",
    "from hsml.model_schema import ModelSchema\n",
    "\n",
    "input_schema = Schema(features)\n",
    "output_schema = Schema(targets)\n",
    "model_schema = ModelSchema(input_schema=input_schema, output_schema=output_schema)"
   ]
  },
  {
   "cell_type": "code",
   "execution_count": null,
   "id": "d4cd6706-5363-4275-8df8-78d9d5424942",
   "metadata": {},
   "outputs": [],
   "source": [
    "model_registry = project.get_model_registry()\n",
    "\n",
    "model = model_registry.sklearn.create_model(\n",
    "    name=\"taxi_demand_predictor_next_hour\",\n",
    "    metrics={\"test_mae\": test_mae},\n",
    "    description=\"LightGBM regressor\",\n",
    "    input_example=features.sample(),\n",
    "    model_schema=model_schema,\n",
    "    include_files=[\"src/\", \"requirements.txt\"]  # Include directories and files\n",
    ")\n",
    "# https://community.hopsworks.ai/t/attributeerror-windowspath-object-has-no-attribute-startswith/1003\n",
    "# model.save(config.MODELS_DIR / 'lgb_model.pkl')\n"
   ]
  },
  {
   "cell_type": "code",
   "execution_count": null,
   "id": "a60b3b75-a584-4e6c-98b0-10723aae78bc",
   "metadata": {},
   "outputs": [],
   "source": [
    "from src.inference import load_model_from_registry\n",
    "\n",
    "model = load_model_from_registry()"
   ]
  },
  {
   "cell_type": "code",
   "execution_count": null,
   "id": "de3e7e97-ddcf-4527-9b4a-0f2a5d8ec753",
   "metadata": {},
   "outputs": [],
   "source": [
    "from src.inference import get_model_predictions"
   ]
  },
  {
   "cell_type": "code",
   "execution_count": null,
   "id": "78aac5a4-d7c0-4408-8f4c-05ee272482d0",
   "metadata": {},
   "outputs": [],
   "source": [
    "preds = get_model_predictions(model, features_copy)"
   ]
  },
  {
   "cell_type": "code",
   "execution_count": null,
   "id": "e7222d6e-c123-47fb-9d03-856e4a0847f8",
   "metadata": {},
   "outputs": [],
   "source": [
    "model.get_m"
   ]
  },
  {
   "cell_type": "code",
   "execution_count": null,
   "id": "0438bf14-d1b2-45df-a1ac-f7747c93dab8",
   "metadata": {},
   "outputs": [],
   "source": [
    "preds"
   ]
  },
  {
   "cell_type": "code",
   "execution_count": null,
   "id": "5fbc92af-e5bf-4b58-a6ef-15509d653bb6",
   "metadata": {},
   "outputs": [],
   "source": [
    "test_mae = mean_absolute_error(targets, preds[\"predicted_demand\"])\n",
    "print(f\"{test_mae:.4f}\")"
   ]
  }
 ],
 "metadata": {
  "kernelspec": {
   "display_name": "Python 3 (ipykernel)",
   "language": "python",
   "name": "python3"
  },
  "language_info": {
   "codemirror_mode": {
    "name": "ipython",
    "version": 3
   },
   "file_extension": ".py",
   "mimetype": "text/x-python",
   "name": "python",
   "nbconvert_exporter": "python",
   "pygments_lexer": "ipython3",
   "version": "3.12.4"
  }
 },
 "nbformat": 4,
 "nbformat_minor": 5
}
